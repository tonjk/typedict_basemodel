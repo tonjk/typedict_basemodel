{
 "cells": [
  {
   "cell_type": "markdown",
   "metadata": {},
   "source": [
    "# TypedDict"
   ]
  },
  {
   "cell_type": "code",
   "execution_count": 1,
   "metadata": {},
   "outputs": [],
   "source": [
    "from typing import Literal, Optional, Tuple\n",
    "from typing_extensions import TypedDict\n",
    "\n",
    "series_unique = ['type A', 'type B', 'type C']\n",
    "color_unique = ['ม่วง','คราม','น้ำเงิน','เขียว','เหลือง','แสด','แดง']\n",
    "group_unique = ['ครอบโค้ง','หลังคา','ครอบข้าง','ครอบปิดปลาย','กระเบื้อง','ครอบสัน',]\n",
    "\n",
    "class format_typedict(TypedDict):\n",
    "    series: Optional[Literal[tuple(series_unique)]]\n",
    "    color: Optional[Literal[tuple(color_unique)]]\n",
    "    pgroup: Optional[Literal[tuple(group_unique)]]\n"
   ]
  },
  {
   "cell_type": "markdown",
   "metadata": {},
   "source": [
    "# BaseModel"
   ]
  },
  {
   "cell_type": "code",
   "execution_count": 2,
   "metadata": {},
   "outputs": [],
   "source": [
    "from pydantic import BaseModel, Field, field_validator\n",
    "\n",
    "class format_basemodel(BaseModel):\n",
    "    series: Optional[str] = Field(None, description=\"Series of product\")\n",
    "    color: Optional[str] = Field(None, description=\"color of product\")\n",
    "    pgroup: Optional[str] = Field(None, description=\"group name of product\")\n",
    "    \n",
    "    @field_validator('series')\n",
    "    def validate_series(cls, v):\n",
    "        if v is not None and v not in series_unique:\n",
    "            raise ValueError(f\"Series must be one of {series_unique}\")\n",
    "        return v\n",
    "    \n",
    "    @field_validator('color')\n",
    "    def validate_color(cls, v):\n",
    "        if v is not None and v not in color_unique:\n",
    "            raise ValueError(f\"Color must be one of {color_unique}\")\n",
    "        return v\n",
    "    \n",
    "    @field_validator('pgroup')\n",
    "    def validate_pgroup(cls, v):\n",
    "        if v is not None and v not in group_unique:\n",
    "            raise ValueError(f\"Group must be one of {group_unique}\")\n",
    "        return v"
   ]
  },
  {
   "cell_type": "markdown",
   "metadata": {},
   "source": [
    "# LLM"
   ]
  },
  {
   "cell_type": "code",
   "execution_count": 3,
   "metadata": {},
   "outputs": [],
   "source": [
    "import os\n",
    "from operator import itemgetter\n",
    "\n",
    "from langchain_openai import ChatOpenAI\n",
    "from langchain.prompts import ChatPromptTemplate\n",
    "from langchain_core.utils.function_calling import convert_to_openai_function\n",
    "from langchain.chains.history_aware_retriever import create_history_aware_retriever\n",
    "from langchain.chains.retrieval import create_retrieval_chain\n",
    "from langchain.chains.combine_documents import create_stuff_documents_chain"
   ]
  },
  {
   "cell_type": "code",
   "execution_count": 4,
   "metadata": {},
   "outputs": [],
   "source": [
    "system_prompt = f\"\"\"You are a knowledgeable product assistant focus on extracting the series of a product, color of a product, and group of a product.\n",
    "When responding to queries:\n",
    "- Focus on the series of product and group of product first.\n",
    "- the color of product is secondary important.\n",
    "- You are not forced to respond, if you cannot find the series, color, or group of product.\n",
    "\n",
    "Product Series: {series_unique}\n",
    "Product Color: {color_unique}\n",
    "Product Group: {group_unique}\"\"\""
   ]
  },
  {
   "cell_type": "code",
   "execution_count": 5,
   "metadata": {},
   "outputs": [],
   "source": [
    "llm = ChatOpenAI(model_name=\"gpt-4o-mini\", openai_api_key=os.getenv(\"OPENAI_API_KEY\"), temperature=0, max_tokens=64)\n",
    "chain_typedict = ChatPromptTemplate.from_messages([(\"system\", system_prompt),\n",
    "                                                   (\"human\", \"{input}\")]) | llm.with_structured_output(format_typedict)\n",
    "chain_basemodel = ChatPromptTemplate.from_messages([(\"system\", system_prompt),\n",
    "                                                    (\"human\", \"{input}\")]) | llm.with_structured_output(format_basemodel)"
   ]
  },
  {
   "cell_type": "markdown",
   "metadata": {},
   "source": [
    "# Test"
   ]
  },
  {
   "cell_type": "code",
   "execution_count": 6,
   "metadata": {},
   "outputs": [],
   "source": [
    "testing_data = ['กระเบื้อง type A สีแดง', 'หลังคาสีม่วง', 'มีหลังคาเท่าไหร่']"
   ]
  },
  {
   "cell_type": "code",
   "execution_count": 8,
   "metadata": {},
   "outputs": [
    {
     "name": "stdout",
     "output_type": "stream",
     "text": [
      "กระเบื้อง type A สีแดง\n",
      "{'series': 'type A', 'color': 'แดง', 'pgroup': 'กระเบื้อง'}\n",
      "series='type A' color='แดง' pgroup='กระเบื้อง'\n",
      "---\n",
      "หลังคาสีม่วง\n",
      "{'series': 'type B', 'color': 'ม่วง', 'pgroup': 'หลังคา'}\n",
      "series='type B' color='ม่วง' pgroup='หลังคา'\n",
      "---\n",
      "มีหลังคาเท่าไหร่\n",
      "{'series': 'type A', 'color': 'ม่วง', 'pgroup': 'หลังคา'}\n",
      "series='type B' color=None pgroup='หลังคา'\n",
      "---\n"
     ]
    }
   ],
   "source": [
    "for i in testing_data:\n",
    "    print(i)\n",
    "    print(chain_typedict.invoke({'input': i}))\n",
    "    print(chain_basemodel.invoke({'input': i}))\n",
    "    print('---')"
   ]
  },
  {
   "cell_type": "markdown",
   "metadata": {},
   "source": [
    "just for response format, do not concern with the responses. Lol"
   ]
  },
  {
   "cell_type": "markdown",
   "metadata": {},
   "source": [
    "# Response in the List"
   ]
  },
  {
   "cell_type": "code",
   "execution_count": 10,
   "metadata": {},
   "outputs": [],
   "source": [
    "from typing import Optional, TypedDict, List\n",
    "from pydantic import BaseModel, Field, field_validator\n",
    "\n",
    "# TypeDict\n",
    "class format_typedict_list(TypedDict): # ress\n",
    "    series: Optional[List[str]]\n",
    "    color: Optional[List[str]]\n",
    "    pgroup: Optional[List[str]]\n",
    "\n",
    "# BaseModel\n",
    "class format_basemodel_list(BaseModel): # res7\n",
    "    series: Optional[List[str]] = Field(None, description=\"Series of product\")\n",
    "    color: Optional[List[str]] = Field(None, description=\"color of product\")\n",
    "    pgroup: Optional[List[str]] = Field(None, description=\"group name of product\")\n",
    "\n",
    "    @field_validator('series')\n",
    "    def validate_series(cls, v):\n",
    "        if v is not None:\n",
    "            for item in v:\n",
    "                if item not in series_unique:\n",
    "                    raise ValueError(f\"{item} must be one of {series_unique}\")\n",
    "        return v\n",
    "    @field_validator('color')\n",
    "    def validate_color(cls, v):\n",
    "        if v is not None:\n",
    "            for item in v:\n",
    "                if item not in color_unique:\n",
    "                    raise ValueError(f\"{item} must be one of {color_unique}\")\n",
    "        return v\n",
    "    @field_validator('pgroup')\n",
    "    def validate_pgroup(cls, v):\n",
    "        if v is not None:\n",
    "            for item in v:\n",
    "                if item not in group_unique:\n",
    "                    raise ValueError(f\"{item} must be one of {group_unique}\")\n",
    "        return v\n"
   ]
  },
  {
   "cell_type": "code",
   "execution_count": 13,
   "metadata": {},
   "outputs": [],
   "source": [
    "chain_typedict_list = ChatPromptTemplate.from_messages([(\"system\", system_prompt),\n",
    "                                                        (\"human\", \"{input}\")]) | llm.with_structured_output(format_typedict_list)\n",
    "chain_basemodel_list = ChatPromptTemplate.from_messages([(\"system\", system_prompt),\n",
    "                                                        (\"human\", \"{input}\")]) | llm.with_structured_output(format_basemodel_list)"
   ]
  },
  {
   "cell_type": "code",
   "execution_count": 15,
   "metadata": {},
   "outputs": [
    {
     "name": "stdout",
     "output_type": "stream",
     "text": [
      "กระเบื้อง type A กับ Type C สีแดง\n",
      "{'series': ['type A', 'type C'], 'color': ['แดง'], 'pgroup': ['กระเบื้อง']}\n",
      "series=['type A', 'type C'] color=['แดง'] pgroup=['กระเบื้อง']\n",
      "---\n",
      "หลังคาสีม่วงกับสีแดง\n",
      "{'series': ['type A', 'type B', 'type C'], 'color': ['ม่วง', 'แดง'], 'pgroup': ['หลังคา']}\n",
      "series=['type B'] color=['ม่วง', 'แดง'] pgroup=['หลังคา']\n",
      "---\n",
      "มีหลังคาและกระเบื้องเท่าไหร่\n",
      "{'series': ['type A', 'type B', 'type C'], 'color': [], 'pgroup': ['หลังคา', 'กระเบื้อง']}\n",
      "series=None color=None pgroup=['หลังคา', 'กระเบื้อง']\n",
      "---\n"
     ]
    }
   ],
   "source": [
    "testing_data_multiple = ['กระเบื้อง type A กับ Type C สีแดง', 'หลังคาสีม่วงกับสีแดง', 'มีหลังคาและกระเบื้องเท่าไหร่']\n",
    "for i in testing_data_multiple:\n",
    "    print(i)\n",
    "    print(chain_typedict_list.invoke({'input': i}))\n",
    "    print(chain_basemodel_list.invoke({'input': i}))\n",
    "    print('---')\n"
   ]
  },
  {
   "cell_type": "code",
   "execution_count": null,
   "metadata": {},
   "outputs": [],
   "source": []
  }
 ],
 "metadata": {
  "kernelspec": {
   "display_name": "langchain-env",
   "language": "python",
   "name": "python3"
  },
  "language_info": {
   "codemirror_mode": {
    "name": "ipython",
    "version": 3
   },
   "file_extension": ".py",
   "mimetype": "text/x-python",
   "name": "python",
   "nbconvert_exporter": "python",
   "pygments_lexer": "ipython3",
   "version": "3.11.9"
  }
 },
 "nbformat": 4,
 "nbformat_minor": 2
}
